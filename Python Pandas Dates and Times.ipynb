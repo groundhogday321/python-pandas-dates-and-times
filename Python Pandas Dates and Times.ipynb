{
 "cells": [
  {
   "cell_type": "markdown",
   "metadata": {
    "colab_type": "text",
    "id": "0zJgdCJp4c6Q"
   },
   "source": [
    "# Imports"
   ]
  },
  {
   "cell_type": "code",
   "execution_count": 50,
   "metadata": {
    "colab": {},
    "colab_type": "code",
    "id": "AWdLUrLyY8yy"
   },
   "outputs": [],
   "source": [
    "# imports\n",
    "import datetime\n",
    "import pandas as pd\n",
    "import numpy as np\n",
    "from vega_datasets import data as vds\n",
    "# pd.__version__"
   ]
  },
  {
   "cell_type": "markdown",
   "metadata": {
    "colab_type": "text",
    "id": "L18-YTLw5WJf"
   },
   "source": [
    "# Create A Date Range"
   ]
  },
  {
   "cell_type": "code",
   "execution_count": 51,
   "metadata": {
    "colab": {
     "base_uri": "https://localhost:8080/",
     "height": 170
    },
    "colab_type": "code",
    "id": "KVrP3iMDyGpU",
    "outputId": "941a9c76-cb4e-4367-f60c-f27c894d4b2d"
   },
   "outputs": [
    {
     "data": {
      "text/plain": [
       "DatetimeIndex(['2016-01-01', '2016-01-02', '2016-01-03', '2016-01-04',\n",
       "               '2016-01-05', '2016-01-06', '2016-01-07', '2016-01-08',\n",
       "               '2016-01-09', '2016-01-10', '2016-01-11', '2016-01-12',\n",
       "               '2016-01-13', '2016-01-14', '2016-01-15', '2016-01-16',\n",
       "               '2016-01-17', '2016-01-18', '2016-01-19', '2016-01-20',\n",
       "               '2016-01-21', '2016-01-22', '2016-01-23', '2016-01-24',\n",
       "               '2016-01-25', '2016-01-26', '2016-01-27', '2016-01-28',\n",
       "               '2016-01-29', '2016-01-30', '2016-01-31'],\n",
       "              dtype='datetime64[ns]', freq='D')"
      ]
     },
     "execution_count": 51,
     "metadata": {},
     "output_type": "execute_result"
    }
   ],
   "source": [
    "# create a date range\n",
    "date_range = pd.date_range(start='1-1-16', end='1-31-16')\n",
    "date_range"
   ]
  },
  {
   "cell_type": "code",
   "execution_count": 52,
   "metadata": {},
   "outputs": [
    {
     "data": {
      "text/plain": [
       "pandas.core.indexes.datetimes.DatetimeIndex"
      ]
     },
     "execution_count": 52,
     "metadata": {},
     "output_type": "execute_result"
    }
   ],
   "source": [
    "type(date_range)"
   ]
  },
  {
   "cell_type": "markdown",
   "metadata": {
    "colab_type": "text",
    "id": "YxVFF8z35w0o"
   },
   "source": [
    "# Add Dates To Dataframe"
   ]
  },
  {
   "cell_type": "code",
   "execution_count": 53,
   "metadata": {
    "colab": {
     "base_uri": "https://localhost:8080/",
     "height": 204
    },
    "colab_type": "code",
    "id": "HQLkmDbh1pla",
    "outputId": "b59a946e-3602-413a-bbce-e9f217c54672"
   },
   "outputs": [
    {
     "data": {
      "text/html": [
       "<div>\n",
       "<style scoped>\n",
       "    .dataframe tbody tr th:only-of-type {\n",
       "        vertical-align: middle;\n",
       "    }\n",
       "\n",
       "    .dataframe tbody tr th {\n",
       "        vertical-align: top;\n",
       "    }\n",
       "\n",
       "    .dataframe thead th {\n",
       "        text-align: right;\n",
       "    }\n",
       "</style>\n",
       "<table border=\"1\" class=\"dataframe\">\n",
       "  <thead>\n",
       "    <tr style=\"text-align: right;\">\n",
       "      <th></th>\n",
       "      <th>Dates</th>\n",
       "      <th>A</th>\n",
       "      <th>B</th>\n",
       "    </tr>\n",
       "  </thead>\n",
       "  <tbody>\n",
       "    <tr>\n",
       "      <th>0</th>\n",
       "      <td>2016-01-01</td>\n",
       "      <td>1</td>\n",
       "      <td>0.390743</td>\n",
       "    </tr>\n",
       "    <tr>\n",
       "      <th>1</th>\n",
       "      <td>2016-01-02</td>\n",
       "      <td>2</td>\n",
       "      <td>0.250177</td>\n",
       "    </tr>\n",
       "    <tr>\n",
       "      <th>2</th>\n",
       "      <td>2016-01-03</td>\n",
       "      <td>3</td>\n",
       "      <td>0.330672</td>\n",
       "    </tr>\n",
       "    <tr>\n",
       "      <th>3</th>\n",
       "      <td>2016-01-04</td>\n",
       "      <td>4</td>\n",
       "      <td>0.312632</td>\n",
       "    </tr>\n",
       "    <tr>\n",
       "      <th>4</th>\n",
       "      <td>2016-01-05</td>\n",
       "      <td>5</td>\n",
       "      <td>0.372673</td>\n",
       "    </tr>\n",
       "  </tbody>\n",
       "</table>\n",
       "</div>"
      ],
      "text/plain": [
       "       Dates  A         B\n",
       "0 2016-01-01  1  0.390743\n",
       "1 2016-01-02  2  0.250177\n",
       "2 2016-01-03  3  0.330672\n",
       "3 2016-01-04  4  0.312632\n",
       "4 2016-01-05  5  0.372673"
      ]
     },
     "execution_count": 53,
     "metadata": {},
     "output_type": "execute_result"
    }
   ],
   "source": [
    "# add dates to dataframe\n",
    "df_day_names = pd.DataFrame({'Dates': date_range,\n",
    "                             'A': np.arange(1,32),\n",
    "                             'B': np.random.rand(31)})\n",
    "\n",
    "df_day_names.head()"
   ]
  },
  {
   "cell_type": "code",
   "execution_count": 54,
   "metadata": {},
   "outputs": [
    {
     "data": {
      "text/plain": [
       "pandas.core.series.Series"
      ]
     },
     "execution_count": 54,
     "metadata": {},
     "output_type": "execute_result"
    }
   ],
   "source": [
    "type(df_day_names.Dates)"
   ]
  },
  {
   "cell_type": "code",
   "execution_count": 55,
   "metadata": {},
   "outputs": [
    {
     "data": {
      "text/plain": [
       "Dates    datetime64[ns]\n",
       "A                 int64\n",
       "B               float64\n",
       "dtype: object"
      ]
     },
     "execution_count": 55,
     "metadata": {},
     "output_type": "execute_result"
    }
   ],
   "source": [
    "df_day_names.dtypes"
   ]
  },
  {
   "cell_type": "markdown",
   "metadata": {
    "colab_type": "text",
    "id": "xO8soLGa54hc"
   },
   "source": [
    "# Make Dates Column The Index"
   ]
  },
  {
   "cell_type": "code",
   "execution_count": 56,
   "metadata": {
    "colab": {
     "base_uri": "https://localhost:8080/",
     "height": 235
    },
    "colab_type": "code",
    "id": "zd5eoD5zDlHP",
    "outputId": "8e232972-89e2-4c04-9935-cdf38a719407"
   },
   "outputs": [
    {
     "data": {
      "text/html": [
       "<div>\n",
       "<style scoped>\n",
       "    .dataframe tbody tr th:only-of-type {\n",
       "        vertical-align: middle;\n",
       "    }\n",
       "\n",
       "    .dataframe tbody tr th {\n",
       "        vertical-align: top;\n",
       "    }\n",
       "\n",
       "    .dataframe thead th {\n",
       "        text-align: right;\n",
       "    }\n",
       "</style>\n",
       "<table border=\"1\" class=\"dataframe\">\n",
       "  <thead>\n",
       "    <tr style=\"text-align: right;\">\n",
       "      <th></th>\n",
       "      <th>A</th>\n",
       "      <th>B</th>\n",
       "    </tr>\n",
       "    <tr>\n",
       "      <th>Dates</th>\n",
       "      <th></th>\n",
       "      <th></th>\n",
       "    </tr>\n",
       "  </thead>\n",
       "  <tbody>\n",
       "    <tr>\n",
       "      <th>2016-01-01</th>\n",
       "      <td>1</td>\n",
       "      <td>0.390743</td>\n",
       "    </tr>\n",
       "    <tr>\n",
       "      <th>2016-01-02</th>\n",
       "      <td>2</td>\n",
       "      <td>0.250177</td>\n",
       "    </tr>\n",
       "    <tr>\n",
       "      <th>2016-01-03</th>\n",
       "      <td>3</td>\n",
       "      <td>0.330672</td>\n",
       "    </tr>\n",
       "    <tr>\n",
       "      <th>2016-01-04</th>\n",
       "      <td>4</td>\n",
       "      <td>0.312632</td>\n",
       "    </tr>\n",
       "    <tr>\n",
       "      <th>2016-01-05</th>\n",
       "      <td>5</td>\n",
       "      <td>0.372673</td>\n",
       "    </tr>\n",
       "  </tbody>\n",
       "</table>\n",
       "</div>"
      ],
      "text/plain": [
       "            A         B\n",
       "Dates                  \n",
       "2016-01-01  1  0.390743\n",
       "2016-01-02  2  0.250177\n",
       "2016-01-03  3  0.330672\n",
       "2016-01-04  4  0.312632\n",
       "2016-01-05  5  0.372673"
      ]
     },
     "execution_count": 56,
     "metadata": {},
     "output_type": "execute_result"
    }
   ],
   "source": [
    "# make dates column the index\n",
    "df_day_names_date_index = df_day_names.set_index('Dates', inplace=False)\n",
    "df_day_names_date_index.head()"
   ]
  },
  {
   "cell_type": "code",
   "execution_count": 57,
   "metadata": {},
   "outputs": [
    {
     "data": {
      "text/plain": [
       "pandas.core.indexes.datetimes.DatetimeIndex"
      ]
     },
     "execution_count": 57,
     "metadata": {},
     "output_type": "execute_result"
    }
   ],
   "source": [
    "type(df_day_names_date_index.index)"
   ]
  },
  {
   "cell_type": "code",
   "execution_count": 58,
   "metadata": {},
   "outputs": [],
   "source": [
    "pd.Series.dt?"
   ]
  },
  {
   "cell_type": "markdown",
   "metadata": {
    "colab_type": "text",
    "id": "7ZHdNxeA6ReZ"
   },
   "source": [
    "# Add Day Name To DataFrame"
   ]
  },
  {
   "cell_type": "code",
   "execution_count": 59,
   "metadata": {
    "colab": {
     "base_uri": "https://localhost:8080/",
     "height": 221
    },
    "colab_type": "code",
    "id": "vVduciQ7DqVc",
    "outputId": "5d955700-3b5b-444d-cfdc-b4e0f3580a77"
   },
   "outputs": [
    {
     "name": "stdout",
     "output_type": "stream",
     "text": [
      "       Dates  A         B      Days\n",
      "0 2016-01-01  1  0.390743    Friday\n",
      "1 2016-01-02  2  0.250177  Saturday\n",
      "2 2016-01-03  3  0.330672    Sunday\n",
      "3 2016-01-04  4  0.312632    Monday\n",
      "4 2016-01-05  5  0.372673   Tuesday \n",
      "\n",
      "Dates    datetime64[ns]\n",
      "A                 int64\n",
      "B               float64\n",
      "Days             object\n",
      "dtype: object\n"
     ]
    }
   ],
   "source": [
    "# add day name to dataframe\n",
    "# *** see pd.Series.dt accessor list at bottom of notebook ***\n",
    "df_day_names['Days'] = df_day_names['Dates'].dt.day_name()\n",
    "print(df_day_names.head(),'\\n')\n",
    "print(df_day_names.dtypes)"
   ]
  },
  {
   "cell_type": "markdown",
   "metadata": {
    "colab_type": "text",
    "id": "8jBFdDKP7Abf"
   },
   "source": [
    "# More Date Range Examples"
   ]
  },
  {
   "cell_type": "code",
   "execution_count": 60,
   "metadata": {
    "colab": {
     "base_uri": "https://localhost:8080/",
     "height": 170
    },
    "colab_type": "code",
    "id": "iMNMaPptzciY",
    "outputId": "65814e2a-53fd-4455-f459-1d6ec7aeb4f7"
   },
   "outputs": [
    {
     "data": {
      "text/plain": [
       "DatetimeIndex(['2016-01-01', '2016-01-02', '2016-01-03', '2016-01-04',\n",
       "               '2016-01-05', '2016-01-06', '2016-01-07', '2016-01-08',\n",
       "               '2016-01-09', '2016-01-10', '2016-01-11', '2016-01-12',\n",
       "               '2016-01-13', '2016-01-14', '2016-01-15', '2016-01-16',\n",
       "               '2016-01-17', '2016-01-18', '2016-01-19', '2016-01-20',\n",
       "               '2016-01-21', '2016-01-22', '2016-01-23', '2016-01-24',\n",
       "               '2016-01-25', '2016-01-26', '2016-01-27', '2016-01-28',\n",
       "               '2016-01-29', '2016-01-30', '2016-01-31'],\n",
       "              dtype='datetime64[ns]', freq='D')"
      ]
     },
     "execution_count": 60,
     "metadata": {},
     "output_type": "execute_result"
    }
   ],
   "source": [
    "# date range example using frequency and periods\n",
    "# *** see common time series frequencies list at bottom of notebook ***\n",
    "pd.date_range('2016', freq='D', periods=31)"
   ]
  },
  {
   "cell_type": "code",
   "execution_count": 61,
   "metadata": {
    "colab": {
     "base_uri": "https://localhost:8080/",
     "height": 68
    },
    "colab_type": "code",
    "id": "uc5y0FD0y9oI",
    "outputId": "d634fb27-96cb-4a2b-f2d2-73e7781d2d35"
   },
   "outputs": [
    {
     "data": {
      "text/plain": [
       "PeriodIndex(['2016-01', '2016-02', '2016-03', '2016-04', '2016-05', '2016-06',\n",
       "             '2016-07', '2016-08', '2016-09', '2016-10', '2016-11', '2016-12'],\n",
       "            dtype='period[M]', freq='M')"
      ]
     },
     "execution_count": 61,
     "metadata": {},
     "output_type": "execute_result"
    }
   ],
   "source": [
    "# period range example\n",
    "period_range = pd.period_range('1/1/2016', freq='M', periods=12)\n",
    "period_range"
   ]
  },
  {
   "cell_type": "code",
   "execution_count": 62,
   "metadata": {
    "colab": {
     "base_uri": "https://localhost:8080/",
     "height": 421
    },
    "colab_type": "code",
    "id": "2GQk3GLhFkxo",
    "outputId": "03423d97-1e8e-4e34-c8ba-7f42df7e1113"
   },
   "outputs": [
    {
     "data": {
      "text/html": [
       "<div>\n",
       "<style scoped>\n",
       "    .dataframe tbody tr th:only-of-type {\n",
       "        vertical-align: middle;\n",
       "    }\n",
       "\n",
       "    .dataframe tbody tr th {\n",
       "        vertical-align: top;\n",
       "    }\n",
       "\n",
       "    .dataframe thead th {\n",
       "        text-align: right;\n",
       "    }\n",
       "</style>\n",
       "<table border=\"1\" class=\"dataframe\">\n",
       "  <thead>\n",
       "    <tr style=\"text-align: right;\">\n",
       "      <th></th>\n",
       "      <th>A</th>\n",
       "      <th>Dates</th>\n",
       "      <th>month</th>\n",
       "    </tr>\n",
       "  </thead>\n",
       "  <tbody>\n",
       "    <tr>\n",
       "      <th>0</th>\n",
       "      <td>0.774452</td>\n",
       "      <td>2016-01</td>\n",
       "      <td>January</td>\n",
       "    </tr>\n",
       "    <tr>\n",
       "      <th>1</th>\n",
       "      <td>0.201617</td>\n",
       "      <td>2016-02</td>\n",
       "      <td>February</td>\n",
       "    </tr>\n",
       "    <tr>\n",
       "      <th>2</th>\n",
       "      <td>0.416983</td>\n",
       "      <td>2016-03</td>\n",
       "      <td>March</td>\n",
       "    </tr>\n",
       "    <tr>\n",
       "      <th>3</th>\n",
       "      <td>0.956292</td>\n",
       "      <td>2016-04</td>\n",
       "      <td>April</td>\n",
       "    </tr>\n",
       "    <tr>\n",
       "      <th>4</th>\n",
       "      <td>0.583920</td>\n",
       "      <td>2016-05</td>\n",
       "      <td>May</td>\n",
       "    </tr>\n",
       "    <tr>\n",
       "      <th>5</th>\n",
       "      <td>0.977335</td>\n",
       "      <td>2016-06</td>\n",
       "      <td>June</td>\n",
       "    </tr>\n",
       "    <tr>\n",
       "      <th>6</th>\n",
       "      <td>0.375554</td>\n",
       "      <td>2016-07</td>\n",
       "      <td>July</td>\n",
       "    </tr>\n",
       "    <tr>\n",
       "      <th>7</th>\n",
       "      <td>0.492330</td>\n",
       "      <td>2016-08</td>\n",
       "      <td>August</td>\n",
       "    </tr>\n",
       "    <tr>\n",
       "      <th>8</th>\n",
       "      <td>0.166677</td>\n",
       "      <td>2016-09</td>\n",
       "      <td>September</td>\n",
       "    </tr>\n",
       "    <tr>\n",
       "      <th>9</th>\n",
       "      <td>0.111706</td>\n",
       "      <td>2016-10</td>\n",
       "      <td>October</td>\n",
       "    </tr>\n",
       "    <tr>\n",
       "      <th>10</th>\n",
       "      <td>0.001211</td>\n",
       "      <td>2016-11</td>\n",
       "      <td>November</td>\n",
       "    </tr>\n",
       "    <tr>\n",
       "      <th>11</th>\n",
       "      <td>0.460275</td>\n",
       "      <td>2016-12</td>\n",
       "      <td>December</td>\n",
       "    </tr>\n",
       "  </tbody>\n",
       "</table>\n",
       "</div>"
      ],
      "text/plain": [
       "           A    Dates      month\n",
       "0   0.774452  2016-01    January\n",
       "1   0.201617  2016-02   February\n",
       "2   0.416983  2016-03      March\n",
       "3   0.956292  2016-04      April\n",
       "4   0.583920  2016-05        May\n",
       "5   0.977335  2016-06       June\n",
       "6   0.375554  2016-07       July\n",
       "7   0.492330  2016-08     August\n",
       "8   0.166677  2016-09  September\n",
       "9   0.111706  2016-10    October\n",
       "10  0.001211  2016-11   November\n",
       "11  0.460275  2016-12   December"
      ]
     },
     "execution_count": 62,
     "metadata": {},
     "output_type": "execute_result"
    }
   ],
   "source": [
    "# add month name\n",
    "# details of the string format can be found in python string format doc\n",
    "# dt.month_name() does not work with PeriodProperties, so we use dt.strftime('%B') instead\n",
    "df_periods = pd.DataFrame({'A': np.random.rand(12),\n",
    "                           'Dates': period_range})\n",
    "\n",
    "df_periods['month'] = df_periods.Dates.dt.strftime('%B')\n",
    "\n",
    "df_periods"
   ]
  },
  {
   "cell_type": "code",
   "execution_count": 63,
   "metadata": {
    "colab": {
     "base_uri": "https://localhost:8080/",
     "height": 142
    },
    "colab_type": "code",
    "id": "hr3VvU8hJGVW",
    "outputId": "c3ab4250-7ac8-4c5e-f2fc-8b20cdadaf0c"
   },
   "outputs": [
    {
     "data": {
      "text/html": [
       "<div>\n",
       "<style scoped>\n",
       "    .dataframe tbody tr th:only-of-type {\n",
       "        vertical-align: middle;\n",
       "    }\n",
       "\n",
       "    .dataframe tbody tr th {\n",
       "        vertical-align: top;\n",
       "    }\n",
       "\n",
       "    .dataframe thead th {\n",
       "        text-align: right;\n",
       "    }\n",
       "</style>\n",
       "<table border=\"1\" class=\"dataframe\">\n",
       "  <thead>\n",
       "    <tr style=\"text-align: right;\">\n",
       "      <th></th>\n",
       "      <th>Dates</th>\n",
       "      <th>A</th>\n",
       "    </tr>\n",
       "  </thead>\n",
       "  <tbody>\n",
       "    <tr>\n",
       "      <th>0</th>\n",
       "      <td>2016-01-01</td>\n",
       "      <td>0.526135</td>\n",
       "    </tr>\n",
       "    <tr>\n",
       "      <th>1</th>\n",
       "      <td>2016-01-02</td>\n",
       "      <td>0.028453</td>\n",
       "    </tr>\n",
       "    <tr>\n",
       "      <th>2</th>\n",
       "      <td>2016-01-03</td>\n",
       "      <td>0.032760</td>\n",
       "    </tr>\n",
       "  </tbody>\n",
       "</table>\n",
       "</div>"
      ],
      "text/plain": [
       "       Dates         A\n",
       "0 2016-01-01  0.526135\n",
       "1 2016-01-02  0.028453\n",
       "2 2016-01-03  0.032760"
      ]
     },
     "execution_count": 63,
     "metadata": {},
     "output_type": "execute_result"
    }
   ],
   "source": [
    "# use DatetimeIndex to create dates\n",
    "dti = pd.DatetimeIndex(['2016-01-01', '2016-01-02', '2016-01-03'])\n",
    "\n",
    "df_dti = pd.DataFrame({'Dates': dti,\n",
    "                       'A': np.random.rand(3)})\n",
    "\n",
    "df_dti"
   ]
  },
  {
   "cell_type": "markdown",
   "metadata": {
    "colab_type": "text",
    "id": "DOFEjG73aEwV"
   },
   "source": [
    "# Extract Parts Of Date Column To Make New Columns"
   ]
  },
  {
   "cell_type": "code",
   "execution_count": 64,
   "metadata": {
    "colab": {
     "base_uri": "https://localhost:8080/",
     "height": 357
    },
    "colab_type": "code",
    "id": "Cge8WDqBY_fh",
    "outputId": "22103052-624b-48fb-f694-090b708ae963"
   },
   "outputs": [
    {
     "name": "stdout",
     "output_type": "stream",
     "text": [
      "date             datetime64[ns]\n",
      "precipitation           float64\n",
      "temp_max                float64\n",
      "temp_min                float64\n",
      "wind                    float64\n",
      "weather                  object\n",
      "month_num                 int64\n",
      "month                    object\n",
      "dtype: object\n"
     ]
    },
    {
     "data": {
      "text/html": [
       "<div>\n",
       "<style scoped>\n",
       "    .dataframe tbody tr th:only-of-type {\n",
       "        vertical-align: middle;\n",
       "    }\n",
       "\n",
       "    .dataframe tbody tr th {\n",
       "        vertical-align: top;\n",
       "    }\n",
       "\n",
       "    .dataframe thead th {\n",
       "        text-align: right;\n",
       "    }\n",
       "</style>\n",
       "<table border=\"1\" class=\"dataframe\">\n",
       "  <thead>\n",
       "    <tr style=\"text-align: right;\">\n",
       "      <th></th>\n",
       "      <th>date</th>\n",
       "      <th>precipitation</th>\n",
       "      <th>temp_max</th>\n",
       "      <th>temp_min</th>\n",
       "      <th>wind</th>\n",
       "      <th>weather</th>\n",
       "      <th>month_num</th>\n",
       "      <th>month</th>\n",
       "    </tr>\n",
       "  </thead>\n",
       "  <tbody>\n",
       "    <tr>\n",
       "      <th>0</th>\n",
       "      <td>2012-01-01</td>\n",
       "      <td>0.0</td>\n",
       "      <td>12.8</td>\n",
       "      <td>5.0</td>\n",
       "      <td>4.7</td>\n",
       "      <td>drizzle</td>\n",
       "      <td>1</td>\n",
       "      <td>January</td>\n",
       "    </tr>\n",
       "    <tr>\n",
       "      <th>1</th>\n",
       "      <td>2012-01-02</td>\n",
       "      <td>10.9</td>\n",
       "      <td>10.6</td>\n",
       "      <td>2.8</td>\n",
       "      <td>4.5</td>\n",
       "      <td>rain</td>\n",
       "      <td>1</td>\n",
       "      <td>January</td>\n",
       "    </tr>\n",
       "    <tr>\n",
       "      <th>2</th>\n",
       "      <td>2012-01-03</td>\n",
       "      <td>0.8</td>\n",
       "      <td>11.7</td>\n",
       "      <td>7.2</td>\n",
       "      <td>2.3</td>\n",
       "      <td>rain</td>\n",
       "      <td>1</td>\n",
       "      <td>January</td>\n",
       "    </tr>\n",
       "    <tr>\n",
       "      <th>3</th>\n",
       "      <td>2012-01-04</td>\n",
       "      <td>20.3</td>\n",
       "      <td>12.2</td>\n",
       "      <td>5.6</td>\n",
       "      <td>4.7</td>\n",
       "      <td>rain</td>\n",
       "      <td>1</td>\n",
       "      <td>January</td>\n",
       "    </tr>\n",
       "    <tr>\n",
       "      <th>4</th>\n",
       "      <td>2012-01-05</td>\n",
       "      <td>1.3</td>\n",
       "      <td>8.9</td>\n",
       "      <td>2.8</td>\n",
       "      <td>6.1</td>\n",
       "      <td>rain</td>\n",
       "      <td>1</td>\n",
       "      <td>January</td>\n",
       "    </tr>\n",
       "  </tbody>\n",
       "</table>\n",
       "</div>"
      ],
      "text/plain": [
       "        date  precipitation  temp_max  temp_min  wind  weather  month_num  \\\n",
       "0 2012-01-01            0.0      12.8       5.0   4.7  drizzle          1   \n",
       "1 2012-01-02           10.9      10.6       2.8   4.5     rain          1   \n",
       "2 2012-01-03            0.8      11.7       7.2   2.3     rain          1   \n",
       "3 2012-01-04           20.3      12.2       5.6   4.7     rain          1   \n",
       "4 2012-01-05            1.3       8.9       2.8   6.1     rain          1   \n",
       "\n",
       "     month  \n",
       "0  January  \n",
       "1  January  \n",
       "2  January  \n",
       "3  January  \n",
       "4  January  "
      ]
     },
     "execution_count": 64,
     "metadata": {},
     "output_type": "execute_result"
    }
   ],
   "source": [
    "# extract parts of date column to make new columns\n",
    "\n",
    "# temperature example\n",
    "weather = vds.seattle_weather()\n",
    "\n",
    "# add month columns to df\n",
    "weather['month_num'] = weather['date'].dt.month\n",
    "weather['month'] = weather['date'].dt.month_name()\n",
    "print(weather.dtypes)\n",
    "weather.head()"
   ]
  },
  {
   "cell_type": "code",
   "execution_count": 65,
   "metadata": {},
   "outputs": [],
   "source": [
    "pd.Series.dt.month?"
   ]
  },
  {
   "cell_type": "code",
   "execution_count": 66,
   "metadata": {},
   "outputs": [],
   "source": [
    "pd.Series.dt.month_name?"
   ]
  },
  {
   "cell_type": "markdown",
   "metadata": {
    "colab_type": "text",
    "id": "YRPy84exgT7b"
   },
   "source": [
    "# Import Dates"
   ]
  },
  {
   "cell_type": "code",
   "execution_count": null,
   "metadata": {
    "colab": {
     "base_uri": "https://localhost:8080/",
     "height": 54
    },
    "colab_type": "code",
    "id": "lzCcXBl7bcde",
    "outputId": "fab8ad6c-4573-45b8-ca64-04041894f3f9"
   },
   "outputs": [],
   "source": [
    "# import dates\n",
    "# import_dates_data = pd.read_csv('path/Dates Data.csv')\n",
    "# print(import_dates_data.dtypes,'\\n')\n",
    "\n",
    "# convert to datetime64 data type\n",
    "# import_dates_data['Dates'] = pd.to_datetime(import_dates_data['Dates'])\n",
    "# print(import_dates_data.dtypes)\n",
    "\n",
    "# import_dates_data.head()"
   ]
  },
  {
   "cell_type": "markdown",
   "metadata": {
    "colab_type": "text",
    "id": "39yDqahMgiPC"
   },
   "source": [
    "# Aggregation With Resample"
   ]
  },
  {
   "cell_type": "code",
   "execution_count": 68,
   "metadata": {
    "colab": {},
    "colab_type": "code",
    "id": "8xOsEG5ak08L"
   },
   "outputs": [],
   "source": [
    "# weather_by_month.resample?\n",
    "# resample must have a datetime-like index"
   ]
  },
  {
   "cell_type": "code",
   "execution_count": 69,
   "metadata": {
    "colab": {
     "base_uri": "https://localhost:8080/",
     "height": 204
    },
    "colab_type": "code",
    "id": "tTGfGnepb_HK",
    "outputId": "2c844976-4af5-40a1-a224-b2273b9976f9"
   },
   "outputs": [
    {
     "data": {
      "text/html": [
       "<div>\n",
       "<style scoped>\n",
       "    .dataframe tbody tr th:only-of-type {\n",
       "        vertical-align: middle;\n",
       "    }\n",
       "\n",
       "    .dataframe tbody tr th {\n",
       "        vertical-align: top;\n",
       "    }\n",
       "\n",
       "    .dataframe thead th {\n",
       "        text-align: right;\n",
       "    }\n",
       "</style>\n",
       "<table border=\"1\" class=\"dataframe\">\n",
       "  <thead>\n",
       "    <tr style=\"text-align: right;\">\n",
       "      <th></th>\n",
       "      <th>precipitation</th>\n",
       "      <th>temp_max</th>\n",
       "      <th>temp_min</th>\n",
       "      <th>wind</th>\n",
       "    </tr>\n",
       "    <tr>\n",
       "      <th>date</th>\n",
       "      <th></th>\n",
       "      <th></th>\n",
       "      <th></th>\n",
       "      <th></th>\n",
       "    </tr>\n",
       "  </thead>\n",
       "  <tbody>\n",
       "    <tr>\n",
       "      <th>2012-12-31</th>\n",
       "      <td>3.349727</td>\n",
       "      <td>15.276776</td>\n",
       "      <td>7.289617</td>\n",
       "      <td>3.400820</td>\n",
       "    </tr>\n",
       "    <tr>\n",
       "      <th>2013-12-31</th>\n",
       "      <td>2.268493</td>\n",
       "      <td>16.058904</td>\n",
       "      <td>8.153973</td>\n",
       "      <td>3.015890</td>\n",
       "    </tr>\n",
       "    <tr>\n",
       "      <th>2014-12-31</th>\n",
       "      <td>3.377534</td>\n",
       "      <td>16.995890</td>\n",
       "      <td>8.662466</td>\n",
       "      <td>3.387671</td>\n",
       "    </tr>\n",
       "    <tr>\n",
       "      <th>2015-12-31</th>\n",
       "      <td>3.121096</td>\n",
       "      <td>17.427945</td>\n",
       "      <td>8.835616</td>\n",
       "      <td>3.159726</td>\n",
       "    </tr>\n",
       "  </tbody>\n",
       "</table>\n",
       "</div>"
      ],
      "text/plain": [
       "            precipitation   temp_max  temp_min      wind\n",
       "date                                                    \n",
       "2012-12-31       3.349727  15.276776  7.289617  3.400820\n",
       "2013-12-31       2.268493  16.058904  8.153973  3.015890\n",
       "2014-12-31       3.377534  16.995890  8.662466  3.387671\n",
       "2015-12-31       3.121096  17.427945  8.835616  3.159726"
      ]
     },
     "execution_count": 69,
     "metadata": {},
     "output_type": "execute_result"
    }
   ],
   "source": [
    "# aggregation with resample\n",
    "# checked against pivot table and results were the same\n",
    "seattle_weather = vds.seattle_weather()\n",
    "weather_aggregation = seattle_weather.set_index('date')\n",
    "weather_aggregation.resample('Y').mean()"
   ]
  },
  {
   "cell_type": "markdown",
   "metadata": {
    "colab_type": "text",
    "id": "yahHkedYlBGV"
   },
   "source": [
    "# Filtering For Certain Dates\n",
    "filtering for certain dates (i.e.-specific year, range of dates, etc.)"
   ]
  },
  {
   "cell_type": "code",
   "execution_count": 70,
   "metadata": {
    "colab": {
     "base_uri": "https://localhost:8080/",
     "height": 419
    },
    "colab_type": "code",
    "id": "t2H_LG7anpED",
    "outputId": "779b2217-81ee-410b-c418-2397ae3810a6",
    "scrolled": true
   },
   "outputs": [
    {
     "data": {
      "text/html": [
       "<div>\n",
       "<style scoped>\n",
       "    .dataframe tbody tr th:only-of-type {\n",
       "        vertical-align: middle;\n",
       "    }\n",
       "\n",
       "    .dataframe tbody tr th {\n",
       "        vertical-align: top;\n",
       "    }\n",
       "\n",
       "    .dataframe thead th {\n",
       "        text-align: right;\n",
       "    }\n",
       "</style>\n",
       "<table border=\"1\" class=\"dataframe\">\n",
       "  <thead>\n",
       "    <tr style=\"text-align: right;\">\n",
       "      <th></th>\n",
       "      <th>Dates</th>\n",
       "      <th>A</th>\n",
       "      <th>B</th>\n",
       "    </tr>\n",
       "  </thead>\n",
       "  <tbody>\n",
       "    <tr>\n",
       "      <th>361</th>\n",
       "      <td>2016-12-27</td>\n",
       "      <td>361</td>\n",
       "      <td>0.623522</td>\n",
       "    </tr>\n",
       "    <tr>\n",
       "      <th>362</th>\n",
       "      <td>2016-12-28</td>\n",
       "      <td>362</td>\n",
       "      <td>0.032954</td>\n",
       "    </tr>\n",
       "    <tr>\n",
       "      <th>363</th>\n",
       "      <td>2016-12-29</td>\n",
       "      <td>363</td>\n",
       "      <td>0.187578</td>\n",
       "    </tr>\n",
       "    <tr>\n",
       "      <th>364</th>\n",
       "      <td>2016-12-30</td>\n",
       "      <td>364</td>\n",
       "      <td>0.015173</td>\n",
       "    </tr>\n",
       "    <tr>\n",
       "      <th>365</th>\n",
       "      <td>2016-12-31</td>\n",
       "      <td>365</td>\n",
       "      <td>0.152069</td>\n",
       "    </tr>\n",
       "  </tbody>\n",
       "</table>\n",
       "</div>"
      ],
      "text/plain": [
       "         Dates    A         B\n",
       "361 2016-12-27  361  0.623522\n",
       "362 2016-12-28  362  0.032954\n",
       "363 2016-12-29  363  0.187578\n",
       "364 2016-12-30  364  0.015173\n",
       "365 2016-12-31  365  0.152069"
      ]
     },
     "execution_count": 70,
     "metadata": {},
     "output_type": "execute_result"
    }
   ],
   "source": [
    "# create dataframe with date range\n",
    "df_slice_range = pd.date_range(start='1-1-16', end='12-31-16')\n",
    "df_slice_range_len = len(df_slice_range) \n",
    "df_slice = pd.DataFrame({'Dates': df_slice_range,\n",
    "                         'A': np.arange(df_slice_range_len),\n",
    "                         'B': np.random.rand(df_slice_range_len)})\n",
    "\n",
    "df_slice.tail()"
   ]
  },
  {
   "cell_type": "code",
   "execution_count": 71,
   "metadata": {
    "colab": {
     "base_uri": "https://localhost:8080/",
     "height": 731
    },
    "colab_type": "code",
    "id": "V2aKV09QcXIl",
    "outputId": "970786cc-e088-4528-8f45-d6fb0ac2fecb"
   },
   "outputs": [
    {
     "data": {
      "text/html": [
       "<div>\n",
       "<style scoped>\n",
       "    .dataframe tbody tr th:only-of-type {\n",
       "        vertical-align: middle;\n",
       "    }\n",
       "\n",
       "    .dataframe tbody tr th {\n",
       "        vertical-align: top;\n",
       "    }\n",
       "\n",
       "    .dataframe thead th {\n",
       "        text-align: right;\n",
       "    }\n",
       "</style>\n",
       "<table border=\"1\" class=\"dataframe\">\n",
       "  <thead>\n",
       "    <tr style=\"text-align: right;\">\n",
       "      <th></th>\n",
       "      <th>A</th>\n",
       "      <th>B</th>\n",
       "    </tr>\n",
       "    <tr>\n",
       "      <th>Dates</th>\n",
       "      <th></th>\n",
       "      <th></th>\n",
       "    </tr>\n",
       "  </thead>\n",
       "  <tbody>\n",
       "    <tr>\n",
       "      <th>2016-03-26</th>\n",
       "      <td>85</td>\n",
       "      <td>0.774018</td>\n",
       "    </tr>\n",
       "    <tr>\n",
       "      <th>2016-03-27</th>\n",
       "      <td>86</td>\n",
       "      <td>0.620944</td>\n",
       "    </tr>\n",
       "    <tr>\n",
       "      <th>2016-03-28</th>\n",
       "      <td>87</td>\n",
       "      <td>0.303174</td>\n",
       "    </tr>\n",
       "    <tr>\n",
       "      <th>2016-03-29</th>\n",
       "      <td>88</td>\n",
       "      <td>0.363410</td>\n",
       "    </tr>\n",
       "    <tr>\n",
       "      <th>2016-03-30</th>\n",
       "      <td>89</td>\n",
       "      <td>0.218370</td>\n",
       "    </tr>\n",
       "    <tr>\n",
       "      <th>2016-03-31</th>\n",
       "      <td>90</td>\n",
       "      <td>0.322646</td>\n",
       "    </tr>\n",
       "    <tr>\n",
       "      <th>2016-04-01</th>\n",
       "      <td>91</td>\n",
       "      <td>0.050680</td>\n",
       "    </tr>\n",
       "    <tr>\n",
       "      <th>2016-04-02</th>\n",
       "      <td>92</td>\n",
       "      <td>0.492320</td>\n",
       "    </tr>\n",
       "    <tr>\n",
       "      <th>2016-04-03</th>\n",
       "      <td>93</td>\n",
       "      <td>0.741827</td>\n",
       "    </tr>\n",
       "    <tr>\n",
       "      <th>2016-04-04</th>\n",
       "      <td>94</td>\n",
       "      <td>0.713751</td>\n",
       "    </tr>\n",
       "    <tr>\n",
       "      <th>2016-04-05</th>\n",
       "      <td>95</td>\n",
       "      <td>0.459655</td>\n",
       "    </tr>\n",
       "    <tr>\n",
       "      <th>2016-04-06</th>\n",
       "      <td>96</td>\n",
       "      <td>0.459717</td>\n",
       "    </tr>\n",
       "    <tr>\n",
       "      <th>2016-04-07</th>\n",
       "      <td>97</td>\n",
       "      <td>0.993958</td>\n",
       "    </tr>\n",
       "    <tr>\n",
       "      <th>2016-04-08</th>\n",
       "      <td>98</td>\n",
       "      <td>0.264725</td>\n",
       "    </tr>\n",
       "    <tr>\n",
       "      <th>2016-04-09</th>\n",
       "      <td>99</td>\n",
       "      <td>0.953448</td>\n",
       "    </tr>\n",
       "    <tr>\n",
       "      <th>2016-04-10</th>\n",
       "      <td>100</td>\n",
       "      <td>0.643884</td>\n",
       "    </tr>\n",
       "    <tr>\n",
       "      <th>2016-04-11</th>\n",
       "      <td>101</td>\n",
       "      <td>0.702914</td>\n",
       "    </tr>\n",
       "    <tr>\n",
       "      <th>2016-04-12</th>\n",
       "      <td>102</td>\n",
       "      <td>0.524046</td>\n",
       "    </tr>\n",
       "    <tr>\n",
       "      <th>2016-04-13</th>\n",
       "      <td>103</td>\n",
       "      <td>0.596386</td>\n",
       "    </tr>\n",
       "    <tr>\n",
       "      <th>2016-04-14</th>\n",
       "      <td>104</td>\n",
       "      <td>0.209974</td>\n",
       "    </tr>\n",
       "    <tr>\n",
       "      <th>2016-04-15</th>\n",
       "      <td>105</td>\n",
       "      <td>0.608939</td>\n",
       "    </tr>\n",
       "  </tbody>\n",
       "</table>\n",
       "</div>"
      ],
      "text/plain": [
       "              A         B\n",
       "Dates                    \n",
       "2016-03-26   85  0.774018\n",
       "2016-03-27   86  0.620944\n",
       "2016-03-28   87  0.303174\n",
       "2016-03-29   88  0.363410\n",
       "2016-03-30   89  0.218370\n",
       "2016-03-31   90  0.322646\n",
       "2016-04-01   91  0.050680\n",
       "2016-04-02   92  0.492320\n",
       "2016-04-03   93  0.741827\n",
       "2016-04-04   94  0.713751\n",
       "2016-04-05   95  0.459655\n",
       "2016-04-06   96  0.459717\n",
       "2016-04-07   97  0.993958\n",
       "2016-04-08   98  0.264725\n",
       "2016-04-09   99  0.953448\n",
       "2016-04-10  100  0.643884\n",
       "2016-04-11  101  0.702914\n",
       "2016-04-12  102  0.524046\n",
       "2016-04-13  103  0.596386\n",
       "2016-04-14  104  0.209974\n",
       "2016-04-15  105  0.608939"
      ]
     },
     "execution_count": 71,
     "metadata": {},
     "output_type": "execute_result"
    }
   ],
   "source": [
    "# filter dates with slice\n",
    "\n",
    "# increase rows shown\n",
    "# pd.set_option('display.max_rows', 100)\n",
    "\n",
    "# set index and filter dates with slice\n",
    "df_slice.set_index('Dates')['3-26-16':'4-15-16']\n",
    "# another example to show slice of March - April ['2016-3':'2016-4']"
   ]
  },
  {
   "cell_type": "code",
   "execution_count": 72,
   "metadata": {
    "colab": {
     "base_uri": "https://localhost:8080/",
     "height": 638
    },
    "colab_type": "code",
    "id": "GcIKGeRortNm",
    "outputId": "28a84873-9bb0-4d54-8ff8-20df4e9ad095"
   },
   "outputs": [
    {
     "data": {
      "text/html": [
       "<div>\n",
       "<style scoped>\n",
       "    .dataframe tbody tr th:only-of-type {\n",
       "        vertical-align: middle;\n",
       "    }\n",
       "\n",
       "    .dataframe tbody tr th {\n",
       "        vertical-align: top;\n",
       "    }\n",
       "\n",
       "    .dataframe thead th {\n",
       "        text-align: right;\n",
       "    }\n",
       "</style>\n",
       "<table border=\"1\" class=\"dataframe\">\n",
       "  <thead>\n",
       "    <tr style=\"text-align: right;\">\n",
       "      <th></th>\n",
       "      <th>A</th>\n",
       "      <th>B</th>\n",
       "    </tr>\n",
       "    <tr>\n",
       "      <th>Dates</th>\n",
       "      <th></th>\n",
       "      <th></th>\n",
       "    </tr>\n",
       "  </thead>\n",
       "  <tbody>\n",
       "    <tr>\n",
       "      <th>2016-04-18</th>\n",
       "      <td>108</td>\n",
       "      <td>0.201776</td>\n",
       "    </tr>\n",
       "    <tr>\n",
       "      <th>2016-04-19</th>\n",
       "      <td>109</td>\n",
       "      <td>0.061190</td>\n",
       "    </tr>\n",
       "    <tr>\n",
       "      <th>2016-04-20</th>\n",
       "      <td>110</td>\n",
       "      <td>0.637368</td>\n",
       "    </tr>\n",
       "    <tr>\n",
       "      <th>2016-04-21</th>\n",
       "      <td>111</td>\n",
       "      <td>0.205913</td>\n",
       "    </tr>\n",
       "    <tr>\n",
       "      <th>2016-04-22</th>\n",
       "      <td>112</td>\n",
       "      <td>0.967833</td>\n",
       "    </tr>\n",
       "    <tr>\n",
       "      <th>2016-04-23</th>\n",
       "      <td>113</td>\n",
       "      <td>0.581385</td>\n",
       "    </tr>\n",
       "    <tr>\n",
       "      <th>2016-04-24</th>\n",
       "      <td>114</td>\n",
       "      <td>0.384787</td>\n",
       "    </tr>\n",
       "    <tr>\n",
       "      <th>2016-04-25</th>\n",
       "      <td>115</td>\n",
       "      <td>0.637728</td>\n",
       "    </tr>\n",
       "    <tr>\n",
       "      <th>2016-04-26</th>\n",
       "      <td>116</td>\n",
       "      <td>0.100101</td>\n",
       "    </tr>\n",
       "    <tr>\n",
       "      <th>2016-04-27</th>\n",
       "      <td>117</td>\n",
       "      <td>0.931146</td>\n",
       "    </tr>\n",
       "    <tr>\n",
       "      <th>2016-04-28</th>\n",
       "      <td>118</td>\n",
       "      <td>0.177302</td>\n",
       "    </tr>\n",
       "    <tr>\n",
       "      <th>2016-04-29</th>\n",
       "      <td>119</td>\n",
       "      <td>0.962039</td>\n",
       "    </tr>\n",
       "    <tr>\n",
       "      <th>2016-04-30</th>\n",
       "      <td>120</td>\n",
       "      <td>0.673924</td>\n",
       "    </tr>\n",
       "    <tr>\n",
       "      <th>2016-05-01</th>\n",
       "      <td>121</td>\n",
       "      <td>0.831651</td>\n",
       "    </tr>\n",
       "    <tr>\n",
       "      <th>2016-05-02</th>\n",
       "      <td>122</td>\n",
       "      <td>0.288473</td>\n",
       "    </tr>\n",
       "    <tr>\n",
       "      <th>2016-05-03</th>\n",
       "      <td>123</td>\n",
       "      <td>0.440544</td>\n",
       "    </tr>\n",
       "    <tr>\n",
       "      <th>2016-05-04</th>\n",
       "      <td>124</td>\n",
       "      <td>0.099003</td>\n",
       "    </tr>\n",
       "    <tr>\n",
       "      <th>2016-05-05</th>\n",
       "      <td>125</td>\n",
       "      <td>0.829979</td>\n",
       "    </tr>\n",
       "  </tbody>\n",
       "</table>\n",
       "</div>"
      ],
      "text/plain": [
       "              A         B\n",
       "Dates                    \n",
       "2016-04-18  108  0.201776\n",
       "2016-04-19  109  0.061190\n",
       "2016-04-20  110  0.637368\n",
       "2016-04-21  111  0.205913\n",
       "2016-04-22  112  0.967833\n",
       "2016-04-23  113  0.581385\n",
       "2016-04-24  114  0.384787\n",
       "2016-04-25  115  0.637728\n",
       "2016-04-26  116  0.100101\n",
       "2016-04-27  117  0.931146\n",
       "2016-04-28  118  0.177302\n",
       "2016-04-29  119  0.962039\n",
       "2016-04-30  120  0.673924\n",
       "2016-05-01  121  0.831651\n",
       "2016-05-02  122  0.288473\n",
       "2016-05-03  123  0.440544\n",
       "2016-05-04  124  0.099003\n",
       "2016-05-05  125  0.829979"
      ]
     },
     "execution_count": 72,
     "metadata": {},
     "output_type": "execute_result"
    }
   ],
   "source": [
    "# truncate (similar to slice)\n",
    "df_trunc = df_slice.copy()\n",
    "df_trunc.set_index('Dates').truncate(before='4-18-16', after='5-5-16')"
   ]
  },
  {
   "cell_type": "code",
   "execution_count": 73,
   "metadata": {
    "colab": {
     "base_uri": "https://localhost:8080/",
     "height": 576
    },
    "colab_type": "code",
    "id": "CDdDp9KNnjp1",
    "outputId": "eb8b4d80-7a7d-4d96-d616-e074436fb8a8"
   },
   "outputs": [
    {
     "data": {
      "text/html": [
       "<div>\n",
       "<style scoped>\n",
       "    .dataframe tbody tr th:only-of-type {\n",
       "        vertical-align: middle;\n",
       "    }\n",
       "\n",
       "    .dataframe tbody tr th {\n",
       "        vertical-align: top;\n",
       "    }\n",
       "\n",
       "    .dataframe thead th {\n",
       "        text-align: right;\n",
       "    }\n",
       "</style>\n",
       "<table border=\"1\" class=\"dataframe\">\n",
       "  <thead>\n",
       "    <tr style=\"text-align: right;\">\n",
       "      <th></th>\n",
       "      <th>Dates</th>\n",
       "      <th>A</th>\n",
       "      <th>B</th>\n",
       "    </tr>\n",
       "  </thead>\n",
       "  <tbody>\n",
       "    <tr>\n",
       "      <th>349</th>\n",
       "      <td>2016-12-15</td>\n",
       "      <td>349</td>\n",
       "      <td>0.097205</td>\n",
       "    </tr>\n",
       "    <tr>\n",
       "      <th>350</th>\n",
       "      <td>2016-12-16</td>\n",
       "      <td>350</td>\n",
       "      <td>0.333340</td>\n",
       "    </tr>\n",
       "    <tr>\n",
       "      <th>351</th>\n",
       "      <td>2016-12-17</td>\n",
       "      <td>351</td>\n",
       "      <td>0.627953</td>\n",
       "    </tr>\n",
       "    <tr>\n",
       "      <th>352</th>\n",
       "      <td>2016-12-18</td>\n",
       "      <td>352</td>\n",
       "      <td>0.696095</td>\n",
       "    </tr>\n",
       "    <tr>\n",
       "      <th>353</th>\n",
       "      <td>2016-12-19</td>\n",
       "      <td>353</td>\n",
       "      <td>0.854107</td>\n",
       "    </tr>\n",
       "    <tr>\n",
       "      <th>354</th>\n",
       "      <td>2016-12-20</td>\n",
       "      <td>354</td>\n",
       "      <td>0.574426</td>\n",
       "    </tr>\n",
       "    <tr>\n",
       "      <th>355</th>\n",
       "      <td>2016-12-21</td>\n",
       "      <td>355</td>\n",
       "      <td>0.067974</td>\n",
       "    </tr>\n",
       "    <tr>\n",
       "      <th>356</th>\n",
       "      <td>2016-12-22</td>\n",
       "      <td>356</td>\n",
       "      <td>0.229841</td>\n",
       "    </tr>\n",
       "    <tr>\n",
       "      <th>357</th>\n",
       "      <td>2016-12-23</td>\n",
       "      <td>357</td>\n",
       "      <td>0.465165</td>\n",
       "    </tr>\n",
       "    <tr>\n",
       "      <th>358</th>\n",
       "      <td>2016-12-24</td>\n",
       "      <td>358</td>\n",
       "      <td>0.970604</td>\n",
       "    </tr>\n",
       "    <tr>\n",
       "      <th>359</th>\n",
       "      <td>2016-12-25</td>\n",
       "      <td>359</td>\n",
       "      <td>0.949555</td>\n",
       "    </tr>\n",
       "    <tr>\n",
       "      <th>360</th>\n",
       "      <td>2016-12-26</td>\n",
       "      <td>360</td>\n",
       "      <td>0.870411</td>\n",
       "    </tr>\n",
       "    <tr>\n",
       "      <th>361</th>\n",
       "      <td>2016-12-27</td>\n",
       "      <td>361</td>\n",
       "      <td>0.623522</td>\n",
       "    </tr>\n",
       "    <tr>\n",
       "      <th>362</th>\n",
       "      <td>2016-12-28</td>\n",
       "      <td>362</td>\n",
       "      <td>0.032954</td>\n",
       "    </tr>\n",
       "    <tr>\n",
       "      <th>363</th>\n",
       "      <td>2016-12-29</td>\n",
       "      <td>363</td>\n",
       "      <td>0.187578</td>\n",
       "    </tr>\n",
       "    <tr>\n",
       "      <th>364</th>\n",
       "      <td>2016-12-30</td>\n",
       "      <td>364</td>\n",
       "      <td>0.015173</td>\n",
       "    </tr>\n",
       "    <tr>\n",
       "      <th>365</th>\n",
       "      <td>2016-12-31</td>\n",
       "      <td>365</td>\n",
       "      <td>0.152069</td>\n",
       "    </tr>\n",
       "  </tbody>\n",
       "</table>\n",
       "</div>"
      ],
      "text/plain": [
       "         Dates    A         B\n",
       "349 2016-12-15  349  0.097205\n",
       "350 2016-12-16  350  0.333340\n",
       "351 2016-12-17  351  0.627953\n",
       "352 2016-12-18  352  0.696095\n",
       "353 2016-12-19  353  0.854107\n",
       "354 2016-12-20  354  0.574426\n",
       "355 2016-12-21  355  0.067974\n",
       "356 2016-12-22  356  0.229841\n",
       "357 2016-12-23  357  0.465165\n",
       "358 2016-12-24  358  0.970604\n",
       "359 2016-12-25  359  0.949555\n",
       "360 2016-12-26  360  0.870411\n",
       "361 2016-12-27  361  0.623522\n",
       "362 2016-12-28  362  0.032954\n",
       "363 2016-12-29  363  0.187578\n",
       "364 2016-12-30  364  0.015173\n",
       "365 2016-12-31  365  0.152069"
      ]
     },
     "execution_count": 73,
     "metadata": {},
     "output_type": "execute_result"
    }
   ],
   "source": [
    "# show only specified dates with boolean filter/indexing\n",
    "df_slice.loc[df_slice.Dates >= pd.to_datetime('12-15-16'), :]"
   ]
  },
  {
   "cell_type": "code",
   "execution_count": 74,
   "metadata": {},
   "outputs": [
    {
     "data": {
      "text/plain": [
       "0      False\n",
       "1      False\n",
       "2      False\n",
       "3      False\n",
       "4      False\n",
       "5      False\n",
       "6      False\n",
       "7      False\n",
       "8      False\n",
       "9      False\n",
       "10     False\n",
       "11     False\n",
       "12     False\n",
       "13     False\n",
       "14     False\n",
       "15     False\n",
       "16     False\n",
       "17     False\n",
       "18     False\n",
       "19     False\n",
       "20     False\n",
       "21     False\n",
       "22     False\n",
       "23     False\n",
       "24     False\n",
       "25     False\n",
       "26     False\n",
       "27     False\n",
       "28     False\n",
       "29     False\n",
       "       ...  \n",
       "336    False\n",
       "337    False\n",
       "338    False\n",
       "339    False\n",
       "340    False\n",
       "341    False\n",
       "342    False\n",
       "343    False\n",
       "344    False\n",
       "345    False\n",
       "346    False\n",
       "347    False\n",
       "348    False\n",
       "349     True\n",
       "350     True\n",
       "351     True\n",
       "352     True\n",
       "353     True\n",
       "354     True\n",
       "355     True\n",
       "356     True\n",
       "357     True\n",
       "358     True\n",
       "359     True\n",
       "360     True\n",
       "361     True\n",
       "362     True\n",
       "363     True\n",
       "364     True\n",
       "365     True\n",
       "Name: Dates, Length: 366, dtype: bool"
      ]
     },
     "execution_count": 74,
     "metadata": {},
     "output_type": "execute_result"
    }
   ],
   "source": [
    "df_slice.Dates >= pd.to_datetime('12-15-16')"
   ]
  },
  {
   "cell_type": "markdown",
   "metadata": {
    "colab_type": "text",
    "id": "9ATv66rUpJwn"
   },
   "source": [
    "# Convert Argument To Datetimes"
   ]
  },
  {
   "cell_type": "code",
   "execution_count": 75,
   "metadata": {
    "colab": {},
    "colab_type": "code",
    "id": "X3QjvL-npAJI"
   },
   "outputs": [],
   "source": [
    "pd.to_datetime?"
   ]
  },
  {
   "cell_type": "code",
   "execution_count": 76,
   "metadata": {
    "colab": {
     "base_uri": "https://localhost:8080/",
     "height": 119
    },
    "colab_type": "code",
    "id": "B56Tpi9arjYn",
    "outputId": "b4524525-c58f-4b51-8564-e64ca07ea07d"
   },
   "outputs": [
    {
     "data": {
      "text/plain": [
       "0   2016-01-01\n",
       "1   2016-01-20\n",
       "2   2016-12-21\n",
       "3   2016-01-31\n",
       "4          NaT\n",
       "dtype: datetime64[ns]"
      ]
     },
     "execution_count": 76,
     "metadata": {},
     "output_type": "execute_result"
    }
   ],
   "source": [
    "# to_datetime\n",
    "# different formats\n",
    "# use dayfirst=True if day is first\n",
    "# datetime64[ns] types, NaT represents missing values\n",
    "to_date = pd.to_datetime(pd.Series(['jan 1, 2016', '2016-01-20', '12-21-2016', '31-1-2016', None]))\n",
    "\n",
    "to_date"
   ]
  },
  {
   "cell_type": "code",
   "execution_count": 77,
   "metadata": {
    "colab": {
     "base_uri": "https://localhost:8080/",
     "height": 204
    },
    "colab_type": "code",
    "id": "pJKt-J5GpbSc",
    "outputId": "b478d413-bb3e-4626-cf21-a09cd322c991"
   },
   "outputs": [
    {
     "data": {
      "text/html": [
       "<div>\n",
       "<style scoped>\n",
       "    .dataframe tbody tr th:only-of-type {\n",
       "        vertical-align: middle;\n",
       "    }\n",
       "\n",
       "    .dataframe tbody tr th {\n",
       "        vertical-align: top;\n",
       "    }\n",
       "\n",
       "    .dataframe thead th {\n",
       "        text-align: right;\n",
       "    }\n",
       "</style>\n",
       "<table border=\"1\" class=\"dataframe\">\n",
       "  <thead>\n",
       "    <tr style=\"text-align: right;\">\n",
       "      <th></th>\n",
       "      <th>Dates</th>\n",
       "      <th>A</th>\n",
       "      <th>B</th>\n",
       "    </tr>\n",
       "  </thead>\n",
       "  <tbody>\n",
       "    <tr>\n",
       "      <th>0</th>\n",
       "      <td>2016-01-01</td>\n",
       "      <td>0.114209</td>\n",
       "      <td>0.580497</td>\n",
       "    </tr>\n",
       "    <tr>\n",
       "      <th>1</th>\n",
       "      <td>2016-01-20</td>\n",
       "      <td>0.338094</td>\n",
       "      <td>0.059020</td>\n",
       "    </tr>\n",
       "    <tr>\n",
       "      <th>2</th>\n",
       "      <td>2016-12-21</td>\n",
       "      <td>0.933037</td>\n",
       "      <td>0.694139</td>\n",
       "    </tr>\n",
       "    <tr>\n",
       "      <th>3</th>\n",
       "      <td>2016-01-31</td>\n",
       "      <td>0.836397</td>\n",
       "      <td>0.484166</td>\n",
       "    </tr>\n",
       "    <tr>\n",
       "      <th>4</th>\n",
       "      <td>NaT</td>\n",
       "      <td>0.829671</td>\n",
       "      <td>0.847919</td>\n",
       "    </tr>\n",
       "  </tbody>\n",
       "</table>\n",
       "</div>"
      ],
      "text/plain": [
       "       Dates         A         B\n",
       "0 2016-01-01  0.114209  0.580497\n",
       "1 2016-01-20  0.338094  0.059020\n",
       "2 2016-12-21  0.933037  0.694139\n",
       "3 2016-01-31  0.836397  0.484166\n",
       "4        NaT  0.829671  0.847919"
      ]
     },
     "execution_count": 77,
     "metadata": {},
     "output_type": "execute_result"
    }
   ],
   "source": [
    "# dataframe with to_date dates example\n",
    "df_to_date = pd.DataFrame({'Dates': to_date,\n",
    "                           'A': np.random.rand(5),\n",
    "                           'B': np.random.rand(5)})\n",
    "\n",
    "df_to_date"
   ]
  },
  {
   "cell_type": "code",
   "execution_count": 78,
   "metadata": {
    "colab": {
     "base_uri": "https://localhost:8080/",
     "height": 85
    },
    "colab_type": "code",
    "id": "3YqULhlSHu4D",
    "outputId": "08e48e4b-02ad-45f5-ef5a-ac552af43882"
   },
   "outputs": [
    {
     "data": {
      "text/plain": [
       "Dates    datetime64[ns]\n",
       "A               float64\n",
       "B               float64\n",
       "dtype: object"
      ]
     },
     "execution_count": 78,
     "metadata": {},
     "output_type": "execute_result"
    }
   ],
   "source": [
    "df_to_date.dtypes"
   ]
  },
  {
   "cell_type": "markdown",
   "metadata": {
    "colab_type": "text",
    "id": "gvj_RgcrqgZz"
   },
   "source": [
    "# Show Only Certain Dates - Custom Business Day Dates\n",
    "\n",
    "using bdate_range weekmask"
   ]
  },
  {
   "cell_type": "code",
   "execution_count": 79,
   "metadata": {
    "colab": {
     "base_uri": "https://localhost:8080/",
     "height": 102
    },
    "colab_type": "code",
    "id": "kiUsfqwKPlyp",
    "outputId": "80a1da9f-04ec-4b67-cf5c-59777c7b60a7"
   },
   "outputs": [
    {
     "data": {
      "text/plain": [
       "DatetimeIndex(['2016-12-01', '2016-12-06', '2016-12-07', '2016-12-08',\n",
       "               '2016-12-13', '2016-12-14', '2016-12-15', '2016-12-20',\n",
       "               '2016-12-21', '2016-12-22', '2016-12-27', '2016-12-28',\n",
       "               '2016-12-29'],\n",
       "              dtype='datetime64[ns]', freq='C')"
      ]
     },
     "execution_count": 79,
     "metadata": {},
     "output_type": "execute_result"
    }
   ],
   "source": [
    "# show only certain dates using bdate_range and weekmask\n",
    "# return a fixed frequency DatetimeIndex, with business day as the default\n",
    "# freq=C for custom business day frequency\n",
    "\n",
    "# days to be shown\n",
    "weekmask = 'Tue Wed Thu'\n",
    "\n",
    "business_days = pd.bdate_range(start=datetime.datetime(2016, 12, 1), \n",
    "                               end=datetime.datetime(2016, 12, 31), \n",
    "                               freq='C', \n",
    "                               weekmask=weekmask)\n",
    "\n",
    "business_days"
   ]
  },
  {
   "cell_type": "code",
   "execution_count": 80,
   "metadata": {
    "colab": {},
    "colab_type": "code",
    "id": "otHL9tPjauiC"
   },
   "outputs": [],
   "source": [
    "pd.bdate_range?"
   ]
  },
  {
   "cell_type": "markdown",
   "metadata": {
    "colab_type": "text",
    "id": "boo-ABOcrods"
   },
   "source": [
    "# Calculations"
   ]
  },
  {
   "cell_type": "code",
   "execution_count": 81,
   "metadata": {
    "colab": {
     "base_uri": "https://localhost:8080/",
     "height": 419
    },
    "colab_type": "code",
    "id": "R6Bj__Odvb5l",
    "outputId": "55a37100-a06b-4bed-b847-8e60fde6c40c"
   },
   "outputs": [
    {
     "data": {
      "text/html": [
       "<div>\n",
       "<style scoped>\n",
       "    .dataframe tbody tr th:only-of-type {\n",
       "        vertical-align: middle;\n",
       "    }\n",
       "\n",
       "    .dataframe tbody tr th {\n",
       "        vertical-align: top;\n",
       "    }\n",
       "\n",
       "    .dataframe thead th {\n",
       "        text-align: right;\n",
       "    }\n",
       "</style>\n",
       "<table border=\"1\" class=\"dataframe\">\n",
       "  <thead>\n",
       "    <tr style=\"text-align: right;\">\n",
       "      <th></th>\n",
       "      <th>Dates</th>\n",
       "      <th>A</th>\n",
       "      <th>B</th>\n",
       "    </tr>\n",
       "  </thead>\n",
       "  <tbody>\n",
       "    <tr>\n",
       "      <th>361</th>\n",
       "      <td>2016-12-27</td>\n",
       "      <td>361</td>\n",
       "      <td>0.318606</td>\n",
       "    </tr>\n",
       "    <tr>\n",
       "      <th>362</th>\n",
       "      <td>2016-12-28</td>\n",
       "      <td>362</td>\n",
       "      <td>0.465604</td>\n",
       "    </tr>\n",
       "    <tr>\n",
       "      <th>363</th>\n",
       "      <td>2016-12-29</td>\n",
       "      <td>363</td>\n",
       "      <td>0.859933</td>\n",
       "    </tr>\n",
       "    <tr>\n",
       "      <th>364</th>\n",
       "      <td>2016-12-30</td>\n",
       "      <td>364</td>\n",
       "      <td>0.642918</td>\n",
       "    </tr>\n",
       "    <tr>\n",
       "      <th>365</th>\n",
       "      <td>2016-12-31</td>\n",
       "      <td>365</td>\n",
       "      <td>0.396601</td>\n",
       "    </tr>\n",
       "  </tbody>\n",
       "</table>\n",
       "</div>"
      ],
      "text/plain": [
       "         Dates    A         B\n",
       "361 2016-12-27  361  0.318606\n",
       "362 2016-12-28  362  0.465604\n",
       "363 2016-12-29  363  0.859933\n",
       "364 2016-12-30  364  0.642918\n",
       "365 2016-12-31  365  0.396601"
      ]
     },
     "execution_count": 81,
     "metadata": {},
     "output_type": "execute_result"
    }
   ],
   "source": [
    "# dataframe\n",
    "df_dates = pd.date_range(start='1-1-16', end='12-31-16')\n",
    "df_range_len = len(df_dates) \n",
    "df = pd.DataFrame({'Dates': df_dates,\n",
    "                   'A': np.arange(df_range_len),\n",
    "                   'B': np.random.rand(df_range_len)})\n",
    "\n",
    "df.tail()"
   ]
  },
  {
   "cell_type": "code",
   "execution_count": 82,
   "metadata": {
    "colab": {
     "base_uri": "https://localhost:8080/",
     "height": 68
    },
    "colab_type": "code",
    "id": "GXhh2YIwv4bk",
    "outputId": "56e18327-6527-4ea4-d6ae-949826d0ae47"
   },
   "outputs": [
    {
     "name": "stdout",
     "output_type": "stream",
     "text": [
      "2016-12-31 00:00:00 \n",
      "\n",
      "2016-01-01 00:00:00\n"
     ]
    }
   ],
   "source": [
    "# min and max dates\n",
    "print(df.Dates.max(),'\\n')\n",
    "print(df.Dates.min())"
   ]
  },
  {
   "cell_type": "code",
   "execution_count": 83,
   "metadata": {
    "colab": {
     "base_uri": "https://localhost:8080/",
     "height": 34
    },
    "colab_type": "code",
    "id": "4qbtPsn4lERT",
    "outputId": "82fbf96e-420f-4e52-b64c-5a0dce3a690a"
   },
   "outputs": [
    {
     "data": {
      "text/plain": [
       "Timestamp('2016-04-21 00:00:00')"
      ]
     },
     "execution_count": 83,
     "metadata": {},
     "output_type": "execute_result"
    }
   ],
   "source": [
    "# add time to get new date\n",
    "timestamp = pd.Timestamp('2016-01-31')\n",
    "add_days = timestamp + pd.Timedelta('81 days')\n",
    "add_days"
   ]
  },
  {
   "cell_type": "code",
   "execution_count": 84,
   "metadata": {
    "colab": {
     "base_uri": "https://localhost:8080/",
     "height": 34
    },
    "colab_type": "code",
    "id": "XLmu_9cex9g9",
    "outputId": "c3d93144-7691-4d9e-d72d-a63d118f2b00"
   },
   "outputs": [
    {
     "data": {
      "text/plain": [
       "Timedelta('0 days 01:00:00')"
      ]
     },
     "execution_count": 84,
     "metadata": {},
     "output_type": "execute_result"
    }
   ],
   "source": [
    "# subtract date times to get total time\n",
    "timestamp_1 = pd.Timestamp('2016-01-01 17:00:00')\n",
    "timestamp_2 = pd.Timestamp('2016-01-01 18:00:00')\n",
    "\n",
    "(timestamp_2 - timestamp_1)"
   ]
  },
  {
   "cell_type": "code",
   "execution_count": 85,
   "metadata": {},
   "outputs": [
    {
     "data": {
      "text/html": [
       "<div>\n",
       "<style scoped>\n",
       "    .dataframe tbody tr th:only-of-type {\n",
       "        vertical-align: middle;\n",
       "    }\n",
       "\n",
       "    .dataframe tbody tr th {\n",
       "        vertical-align: top;\n",
       "    }\n",
       "\n",
       "    .dataframe thead th {\n",
       "        text-align: right;\n",
       "    }\n",
       "</style>\n",
       "<table border=\"1\" class=\"dataframe\">\n",
       "  <thead>\n",
       "    <tr style=\"text-align: right;\">\n",
       "      <th></th>\n",
       "      <th>Dates1</th>\n",
       "      <th>Dates2</th>\n",
       "      <th>difference</th>\n",
       "    </tr>\n",
       "  </thead>\n",
       "  <tbody>\n",
       "    <tr>\n",
       "      <th>0</th>\n",
       "      <td>2016-01-01 17:00:00</td>\n",
       "      <td>2016-02-02 18:45:00</td>\n",
       "      <td>32 days 01:45:00</td>\n",
       "    </tr>\n",
       "  </tbody>\n",
       "</table>\n",
       "</div>"
      ],
      "text/plain": [
       "               Dates1              Dates2       difference\n",
       "0 2016-01-01 17:00:00 2016-02-02 18:45:00 32 days 01:45:00"
      ]
     },
     "execution_count": 85,
     "metadata": {},
     "output_type": "execute_result"
    }
   ],
   "source": [
    "# added after tutorial\n",
    "df_subtract_times = pd.DataFrame({'Dates1': [pd.Timestamp('2016-01-01 17:00:00')],\n",
    "                                  'Dates2': [pd.Timestamp('2016-02-02 18:45:00')]})\n",
    "df_subtract_times['difference'] = df_subtract_times.Dates2 - df_subtract_times.Dates1\n",
    "df_subtract_times"
   ]
  },
  {
   "cell_type": "code",
   "execution_count": 86,
   "metadata": {
    "colab": {
     "base_uri": "https://localhost:8080/",
     "height": 68
    },
    "colab_type": "code",
    "id": "ia-lXeCP3kWe",
    "outputId": "d99d3cb7-4cf6-49be-e873-eb56588b1a50"
   },
   "outputs": [
    {
     "name": "stdout",
     "output_type": "stream",
     "text": [
      "total seconds in 1 hour 3600.0\n",
      "total minutes 2945.0\n",
      "total hours 8760.0\n"
     ]
    }
   ],
   "source": [
    "# calculate time units within time units\n",
    "\n",
    "# total seconds\n",
    "total_seconds = pd.Timedelta('1 hour').total_seconds()\n",
    "print('total seconds in 1 hour', total_seconds)\n",
    "\n",
    "# total minutes\n",
    "total_minutes = pd.Timedelta('2 days 1 hour 5 min') / pd.Timedelta('1 min')\n",
    "print('total minutes', total_minutes)\n",
    "\n",
    "# total hours\n",
    "total_hours = pd.Timedelta('365 days') / pd.Timedelta('1 hour')\n",
    "print('total hours', total_hours)"
   ]
  },
  {
   "cell_type": "markdown",
   "metadata": {
    "colab_type": "text",
    "id": "L_CCCF6Q3nyl"
   },
   "source": [
    "# Accessors For Datetimelike Properties\n",
    "pd.Series.dt accessor list\n",
    "\n",
    "some are properties and some are functions"
   ]
  },
  {
   "cell_type": "code",
   "execution_count": null,
   "metadata": {
    "colab": {
     "base_uri": "https://localhost:8080/",
     "height": 54
    },
    "colab_type": "code",
    "id": "GH0KxMxe90fc",
    "outputId": "14a57a07-c7f6-426b-a21f-1b35827cb4b7"
   },
   "outputs": [],
   "source": [
    "# pd.Series.dt accessor list\n",
    "# some are properties and some are functions\n",
    "'''\n",
    "asfreq, ceil, components, date, day, day_name, dayofweek, dayofyear, days, days_in_month, daysinmonth, \n",
    "end_time, floor, freq, hour, is_leap_year, is_month_end, is_month_start, is_quarter_end, is_quarter_start, \n",
    "is_year_end, is_year_start, microsecond, microseconds, minute, month, month_name, mro, nanosecond, \n",
    "nanoseconds, normalize, quarter, qyear, round, second, seconds, start_time, strftime, time, timetz, \n",
    "to_period, to_pydatetime, to_pytimedelta, to_timestamp, total_seconds, tz, tz_convert, tz_localize, week, \n",
    "weekday, weekday_name, weekofyear, year\n",
    "'''"
   ]
  },
  {
   "cell_type": "markdown",
   "metadata": {
    "colab_type": "text",
    "id": "02mV_wVM5F38"
   },
   "source": [
    "# Common Time Series Frequencies"
   ]
  },
  {
   "cell_type": "code",
   "execution_count": null,
   "metadata": {
    "colab": {},
    "colab_type": "code",
    "id": "jH9_G031ebU9"
   },
   "outputs": [],
   "source": [
    "'''\n",
    "Common Time Series Frequencies\n",
    "\n",
    "Alias     Description\n",
    "B         business day frequency\n",
    "C         custom business day frequency\n",
    "D         calendar day frequency\n",
    "W         weekly frequency\n",
    "M         month end frequency\n",
    "SM        semi-month end frequency (15th and end of month)\n",
    "BM        business month end frequency\n",
    "CBM       custom business month end frequency\n",
    "MS        month start frequency\n",
    "SMS       semi-month start frequency (1st and 15th)\n",
    "BMS       business month start frequency\n",
    "CBMS      custom business month start frequency\n",
    "Q         quarter end frequency\n",
    "BQ        business quarter end frequency\n",
    "QS        quarter start frequency\n",
    "BQS       business quarter start frequency\n",
    "A, Y      year end frequency\n",
    "BA, BY    business year end frequency\n",
    "AS, YS    year start frequency\n",
    "BAS, BYS  business year start frequency\n",
    "BH        business hour frequency\n",
    "H         hourly frequency\n",
    "T, min    minutely frequency\n",
    "S         secondly frequency\n",
    "L, ms     milliseconds\n",
    "U, us     microseconds\n",
    "N         nanoseconds\n",
    "'''"
   ]
  }
 ],
 "metadata": {
  "colab": {
   "collapsed_sections": [],
   "name": "Python Pandas Dates and Times.ipynb",
   "provenance": []
  },
  "kernelspec": {
   "display_name": "Python 3",
   "language": "python",
   "name": "python3"
  },
  "language_info": {
   "codemirror_mode": {
    "name": "ipython",
    "version": 3
   },
   "file_extension": ".py",
   "mimetype": "text/x-python",
   "name": "python",
   "nbconvert_exporter": "python",
   "pygments_lexer": "ipython3",
   "version": "3.7.3"
  },
  "varInspector": {
   "cols": {
    "lenName": 16,
    "lenType": 16,
    "lenVar": 40
   },
   "kernels_config": {
    "python": {
     "delete_cmd_postfix": "",
     "delete_cmd_prefix": "del ",
     "library": "var_list.py",
     "varRefreshCmd": "print(var_dic_list())"
    },
    "r": {
     "delete_cmd_postfix": ") ",
     "delete_cmd_prefix": "rm(",
     "library": "var_list.r",
     "varRefreshCmd": "cat(var_dic_list()) "
    }
   },
   "types_to_exclude": [
    "module",
    "function",
    "builtin_function_or_method",
    "instance",
    "_Feature"
   ],
   "window_display": false
  }
 },
 "nbformat": 4,
 "nbformat_minor": 1
}
